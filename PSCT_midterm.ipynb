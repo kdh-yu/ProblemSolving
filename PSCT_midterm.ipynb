{
 "cells": [
  {
   "cell_type": "markdown",
   "metadata": {},
   "source": [
    "# Problem Solving using Computational Thinking - Midterm"
   ]
  },
  {
   "cell_type": "code",
   "execution_count": 71,
   "metadata": {},
   "outputs": [],
   "source": [
    "# Basic Data Structure\n",
    "class Node:\n",
    "\tdef __init__(self, e, n=None):\n",
    "\t\tself.val = e\n",
    "\t\tself.next = n\n",
    "\n",
    "class LinkedList:\n",
    "\tdef __init__(self, l=[]):\n",
    "\t\tif not l:\n",
    "\t\t\tself.head = None\n",
    "\t\t\tself.size = 0\n",
    "\t\telse:\n",
    "\t\t\tself.head = Node(l[0])\n",
    "\t\t\tself.size = len(l)\n",
    "\t\t\tcurr = self.head\n",
    "\t\t\tfor x in l[1:]:\n",
    "\t\t\t\tcurr.next = Node(x)\n",
    "\t\t\t\tcurr = curr.next\n",
    "\n",
    "\tdef __len__(self):\n",
    "\t\treturn self.size\n",
    "\n",
    "\tdef is_empty(self):\n",
    "\t\treturn self.size == 0\n",
    "\n",
    "\tdef append(self, d):\n",
    "\t\tend = Node(d)\n",
    "\t\tif not self.head:\n",
    "\t\t\tself.head = end\n",
    "\t\t\treturn\n",
    "\t\tcurr = self.head\n",
    "\t\twhile curr.next:\n",
    "\t\t\tcurr = curr.next\n",
    "\t\tcurr.next = end\n",
    "\n",
    "\tdef print(self):\n",
    "\t\tcnt = 0\n",
    "\t\tcurr = self.head\n",
    "\t\tout = \"\"\n",
    "\t\twhile curr:\n",
    "\t\t\tout += str(curr.val) + \"->\"\n",
    "\t\t\tcurr = curr.next\n",
    "\t\t\tcnt += 1\n",
    "\t\tif out is not None:\n",
    "\t\t\tout = out[:-2]\n",
    "\t\tprint(out)\n",
    "\n",
    "import heapq\n",
    "from collections import deque, defaultdict\n",
    "\n",
    "class TreeNode:\n",
    "    def __init__(self, val, left=None, right=None):\n",
    "        self.val = val\n",
    "        self.left = left\n",
    "        self.right = right\n",
    "\n",
    "class Tree:\n",
    "    def __init__(self, dic):\n",
    "        i_root = 0\n",
    "        if i_root not in dic:\n",
    "            return\n",
    "        self.root = TreeNode(dic[i_root])\n",
    "        q = deque([(i_root, self.root)])\n",
    "        while q:\n",
    "            i_curr, curr = q.popleft()\n",
    "            i_left = i_curr * 2 + 1\n",
    "            if i_left in dic:\n",
    "                child = TreeNode(dic[i_left])\n",
    "                q.append((i_left, child))\n",
    "                curr.left = child\n",
    "            i_right = i_curr * 2 + 2\n",
    "            if i_right in dic:\n",
    "                child = TreeNode(dic[i_right])\n",
    "                q.append((i_right, child))\n",
    "                curr.right = child\n",
    "\n",
    "def Preorder(root):\n",
    "\ttemp = []\n",
    "\tdef preorder(root):\n",
    "\t\tif root:\n",
    "\t\t\ttemp.append(root.val)\n",
    "\t\t\tpreorder(root.left)\n",
    "\t\t\tpreorder(root.right)\n",
    "\tpreorder(root)\n",
    "\treturn '->'.join(map(str, temp))\n",
    "\n",
    "def Postorder(root):\n",
    "\ttemp = []\n",
    "\tdef postorder(root):\n",
    "\t\tif root:\n",
    "\t\t\tpostorder(root.left)\n",
    "\t\t\tpostorder(root.right)\n",
    "\t\t\ttemp.append(root.val)\n",
    "\tpostorder(root)\n",
    "\treturn '->'.join(map(str, temp))\n",
    "\n",
    "def Inorder(root):\n",
    "\ttemp = []\n",
    "\tdef inorder(root):\n",
    "\t\tif root:\n",
    "\t\t\tinorder(root.left)\n",
    "\t\t\ttemp.append(root.val)\n",
    "\t\t\tinorder(root.right)\n",
    "\tinorder(root)\n",
    "\treturn '->'.join(map(str, temp))"
   ]
  },
  {
   "cell_type": "markdown",
   "metadata": {},
   "source": [
    "----\n",
    "## Chap 1. Algorithm Analysis"
   ]
  },
  {
   "cell_type": "markdown",
   "metadata": {},
   "source": [
    "#### Example : BCR\n",
    "Given two sorted arrays, find the number of elements in common. The arrays are the same length and each has all distinct elements."
   ]
  },
  {
   "cell_type": "code",
   "execution_count": 1,
   "metadata": {},
   "outputs": [
    {
     "data": {
      "text/plain": [
       "[35, 40, 55]"
      ]
     },
     "execution_count": 1,
     "metadata": {},
     "output_type": "execute_result"
    }
   ],
   "source": [
    "# Time Complexity: O(n)\n",
    "# Space Complexity: O(n)\n",
    "def num_common(a: list[int], b: list[int]) -> int:\n",
    "    common = set()\n",
    "    result = []\n",
    "    for i in a:\n",
    "        common.add(i)\n",
    "    for i in b:\n",
    "        if i in common:\n",
    "            result.append(i)\n",
    "    return result\n",
    "\n",
    "# Test case\n",
    "A = [13, 27, 35, 40, 49, 55, 59]\n",
    "B = [17, 35, 39, 40, 55, 58, 60]\n",
    "\n",
    "num_common(A, B)"
   ]
  },
  {
   "cell_type": "markdown",
   "metadata": {},
   "source": [
    "## Practice 1. Recursion"
   ]
  },
  {
   "cell_type": "markdown",
   "metadata": {},
   "source": [
    "#### Practice : Permutation\n",
    "Design an algorithm to print all permutations of a string. For simplicity, assume all characters are unique."
   ]
  },
  {
   "cell_type": "code",
   "execution_count": 8,
   "metadata": {},
   "outputs": [
    {
     "data": {
      "text/plain": [
       "['cba', 'bca', 'cab', 'acb', 'bac', 'abc']"
      ]
     },
     "execution_count": 8,
     "metadata": {},
     "output_type": "execute_result"
    }
   ],
   "source": [
    "# Time Complexity: O(n * n!)\n",
    "# Space Complexity: O(n) \n",
    "def permute(s: str) -> list[str]:\n",
    "    answer = []\n",
    "    visited = [0] * len(s)\n",
    "    def permute_recursion(temp=[]):\n",
    "        if len(temp) == len(s):\n",
    "            answer.append(''.join(temp))\n",
    "            return\n",
    "        for i in range(len(s)):\n",
    "            if not visited[i]:\n",
    "                visited[i] = 1\n",
    "                permute_recursion([s[i]]+temp)\n",
    "                visited[i] = 0\n",
    "    permute_recursion()\n",
    "    return answer\n",
    "\n",
    "# Test case\n",
    "string = 'abc'\n",
    "permute(string)"
   ]
  },
  {
   "cell_type": "markdown",
   "metadata": {},
   "source": [
    "#### Practice : Power Set\n",
    "Write a method to return all subsets of a set."
   ]
  },
  {
   "cell_type": "code",
   "execution_count": 9,
   "metadata": {},
   "outputs": [
    {
     "data": {
      "text/plain": [
       "[[], [1], [2], [1, 2], [3], [1, 3], [2, 3], [1, 2, 3]]"
      ]
     },
     "execution_count": 9,
     "metadata": {},
     "output_type": "execute_result"
    }
   ],
   "source": [
    "# Time Complexity : O(n*2^n)\n",
    "# Space Complexity : O(n*2^n) for output, O(1) for auxilary space\n",
    "def power_set(A: list[int]) -> list[list[int]]:\n",
    "    answer = [[]]\n",
    "    for n in A:\n",
    "        new = []\n",
    "        for curr in answer:\n",
    "            temp = curr.copy()\n",
    "            temp.append(n)\n",
    "            new.append(temp)\n",
    "        answer.extend(new)\n",
    "    return answer\n",
    "\n",
    "# Test case\n",
    "temp = [1, 2, 3]\n",
    "power_set(temp)"
   ]
  },
  {
   "cell_type": "markdown",
   "metadata": {},
   "source": [
    "----\n",
    "## Chap 2. Linked Lists and Deques"
   ]
  },
  {
   "cell_type": "markdown",
   "metadata": {},
   "source": [
    "#### Example : Partitioning a Linked List\n",
    "Write code to partition a linked list around a value x, such that all nodes less than x come before all nodes greater than or equal to x. If x is contained within the list, the values of x only need to be after the elements less than x. The partition element x can appear anywhere in the \"right partition\"; it does not need to appear between the left and right partitions."
   ]
  },
  {
   "cell_type": "code",
   "execution_count": 30,
   "metadata": {},
   "outputs": [
    {
     "name": "stdout",
     "output_type": "stream",
     "text": [
      "3->5->8->5->10->2->1\n",
      "x : 5\n",
      "3->2->1->5->8->5->10\n"
     ]
    }
   ],
   "source": [
    "# Time Complexity : O(n)\n",
    "# Space Complexity : O(1)\n",
    "\n",
    "def partition(head, x):\n",
    "    lhead = Node(0)\n",
    "    ghead = Node(0)\n",
    "    lptr = lhead\n",
    "    gptr = ghead\n",
    "    while head:\n",
    "        if head.val < x:\n",
    "            lptr.next = head\n",
    "            lptr = lptr.next\n",
    "        else:\n",
    "            gptr.next = head\n",
    "            gptr = gptr.next\n",
    "        head = head.next\n",
    "    lptr.next = ghead.next\n",
    "    gptr.next = None\n",
    "    head = lhead.next\n",
    "\n",
    "# Test case\n",
    "nums = [3, 5, 8, 5, 10, 2, 1]\n",
    "l = LinkedList(nums)\n",
    "x = 5\n",
    "l.print()\n",
    "print(f\"x : {x}\")\n",
    "partition(l.head, x)\n",
    "l.print()"
   ]
  },
  {
   "cell_type": "markdown",
   "metadata": {},
   "source": [
    "#### Example : Delete Middle Node\n",
    "Implement an algorithm to delete a node in the middle (i.e., any node but the first and last node, not necessarily the exact middle) of a singly linked list, given only access to that node."
   ]
  },
  {
   "cell_type": "code",
   "execution_count": 36,
   "metadata": {},
   "outputs": [
    {
     "name": "stdout",
     "output_type": "stream",
     "text": [
      "1->2->3->4->5->6\n",
      "1->2->4->5->6\n"
     ]
    }
   ],
   "source": [
    "# Time Complexity : O(1)\n",
    "# Space Complexity : O(1)\n",
    "def deleteMiddle(target):\n",
    "    target.val = target.next.val\n",
    "    target.next = target.next.next\n",
    "\n",
    "# Test case\n",
    "nums = [1, 2, 3, 4, 5, 6]\n",
    "l = LinkedList(nums)\n",
    "l.print()\n",
    "deleteMiddle(l.head.next.next)\n",
    "l.print()"
   ]
  },
  {
   "cell_type": "markdown",
   "metadata": {},
   "source": [
    "#### Example : Compute Maximum of K-Length Subarrays\n",
    "Given an array 𝐴 of integers and a number 𝑘, where 1 ≤ 𝑘 ≤ |𝐴|, compute the maximum values of each subarray of length 𝑘."
   ]
  },
  {
   "cell_type": "code",
   "execution_count": 38,
   "metadata": {},
   "outputs": [
    {
     "data": {
      "text/plain": [
       "[10, 7, 8, 8]"
      ]
     },
     "execution_count": 38,
     "metadata": {},
     "output_type": "execute_result"
    }
   ],
   "source": [
    "# Time Complexity\n",
    "# Space Complexity\n",
    "def maxOfSubarray(lst: list[int], k: int) -> list[int]:\n",
    "    answer = []\n",
    "    q = deque()\n",
    "    for i in range(k):\n",
    "        while q and lst[i] >= lst[q[-1]]:\n",
    "            q.pop()\n",
    "        q.append(i)\n",
    "    answer.append(lst[q[0]])\n",
    "    for i in range(k, len(lst)):\n",
    "        while q and q[0] <= i - k:\n",
    "            q.popleft()\n",
    "        while q and lst[i] >= lst[q[-1]]:\n",
    "            q.pop()\n",
    "        q.append(i)\n",
    "        answer.append(lst[q[0]])\n",
    "    return answer\n",
    "\n",
    "# Test case\n",
    "A = [10, 5, 2, 7, 8, 7]\n",
    "k = 3\n",
    "maxOfSubarray(A, k)"
   ]
  },
  {
   "cell_type": "markdown",
   "metadata": {},
   "source": [
    "## Practice 2. Linked Lists and Deques"
   ]
  },
  {
   "cell_type": "markdown",
   "metadata": {},
   "source": [
    "#### Practice : Weaving Linked List\n",
    "Suppose you had a linked list 𝑎1 → 𝑎2 → ⋯ → 𝑎n → 𝑏1 → 𝑏2 → ⋯ → 𝑏n.\n",
    "Arrange it into 𝑎1 → 𝑏1 → 𝑎2 → 𝑏2 → ⋯ → 𝑎n → 𝑏n"
   ]
  },
  {
   "cell_type": "code",
   "execution_count": 15,
   "metadata": {},
   "outputs": [
    {
     "name": "stdout",
     "output_type": "stream",
     "text": [
      "1->2->3->4->5->6->7->8\n",
      "1->5->2->6->3->7->4->8\n"
     ]
    }
   ],
   "source": [
    "# Time Complexity : O(n)\n",
    "# Space Complexity : O(1)\n",
    "def weave(head: Node):\n",
    "    first = head\n",
    "    second = head\n",
    "    while first:\n",
    "        first = first.next.next\n",
    "        second = second.next\n",
    "    first = head\n",
    "    while second:\n",
    "        ptr = first.next\n",
    "        first.next = second\n",
    "        first = ptr\n",
    "        ptr = second.next\n",
    "        if not ptr:\n",
    "            break\n",
    "        second.next = first\n",
    "        second = ptr\n",
    "\n",
    "# Test case\n",
    "nums = [1, 2, 3, 4, 5, 6, 7, 8]\n",
    "l = LinkedList(nums)\n",
    "l.print()\n",
    "weave(l.head)\n",
    "l.print()"
   ]
  },
  {
   "cell_type": "markdown",
   "metadata": {},
   "source": [
    "#### Practice : Get Tree Level with Minimum Sum\n",
    "Given a binary tree, return the level of the tree that has the minimum sum. The level of a node is the number of edges to get to the root, with the root having level zero."
   ]
  },
  {
   "cell_type": "code",
   "execution_count": 44,
   "metadata": {},
   "outputs": [
    {
     "data": {
      "text/plain": [
       "1"
      ]
     },
     "execution_count": 44,
     "metadata": {},
     "output_type": "execute_result"
    }
   ],
   "source": [
    "# Time Complexity : O(n)\n",
    "# Space Complexity : O(n)\n",
    "def level_with_min_sum(node) -> int:\n",
    "    lvl_sum = defaultdict(lambda: float('inf'))\n",
    "    def dfs(node, level=0, vsum=0):\n",
    "        if not node.left and not node.right:\n",
    "            lvl_sum[level] = min(lvl_sum[level], vsum + node.val)\n",
    "        else:\n",
    "            dfs(node.left, level+1, vsum+node.val)\n",
    "            dfs(node.right, level+1, vsum+node.val)\n",
    "    dfs(node)\n",
    "    return min(lvl_sum, key=lvl_sum.get)\n",
    "\n",
    "# Test case\n",
    "T = Tree({0:9, 1:2, 2:3, 5:1, 6:5})\n",
    "level_with_min_sum(T.root)"
   ]
  },
  {
   "cell_type": "markdown",
   "metadata": {},
   "source": [
    "---\n",
    "## Chap 3. Sets and Hash Maps"
   ]
  },
  {
   "cell_type": "markdown",
   "metadata": {},
   "source": [
    "#### Example : Two Sum\n",
    "Given a list of numbers and a number k, return whether any two numbers from the list add up to k."
   ]
  },
  {
   "cell_type": "code",
   "execution_count": 46,
   "metadata": {},
   "outputs": [
    {
     "name": "stdout",
     "output_type": "stream",
     "text": [
      "True\n",
      "False\n"
     ]
    }
   ],
   "source": [
    "# Time Complexity : O(n)\n",
    "# Space Complexity : O(n)\n",
    "def twoSum(nums: list[int], k: int) -> bool:\n",
    "    temp = set()\n",
    "    for n in nums:\n",
    "        if n in temp:\n",
    "            return True\n",
    "        temp.add(k-n)\n",
    "    return False\n",
    "\n",
    "# Test case 1\n",
    "nums = [5, 3, 10, 12, 9]\n",
    "k = 19\n",
    "print(twoSum(nums, k))\n",
    "# Test case 2\n",
    "nums = [5, 3, 10, 12, 9]\n",
    "k = 11\n",
    "print(twoSum(nums, k))"
   ]
  },
  {
   "cell_type": "markdown",
   "metadata": {},
   "source": [
    "## Practice 3. Sets and Hash Maps"
   ]
  },
  {
   "cell_type": "markdown",
   "metadata": {},
   "source": [
    "#### Practice : Cut Brick Wall\n",
    "A wall consists of several rows of bricks of various integer lengths and uniform height. Given an input consisting of brick lengths for each row, return the fewest number of bricks that must be cut to create a vertical line (if the line goes through the edge between two bricks, this does not count as a cut)"
   ]
  },
  {
   "cell_type": "code",
   "execution_count": 55,
   "metadata": {},
   "outputs": [
    {
     "data": {
      "text/plain": [
       "2"
      ]
     },
     "execution_count": 55,
     "metadata": {},
     "output_type": "execute_result"
    }
   ],
   "source": [
    "# Time Complexity : O(n)\n",
    "# Space Complexity : O(m)\n",
    "def fewest_number(bricks: list[list[int]]) -> int:\n",
    "    cut = defaultdict(int)\n",
    "    for brick in bricks:\n",
    "        current = 0\n",
    "        for b in brick[:-1]:\n",
    "            current += b\n",
    "            cut[current] += 1\n",
    "    return len(bricks) - max(cut.values())\n",
    "\n",
    "# Test case\n",
    "height = 6\n",
    "bricks = [\n",
    "    [3, 5, 1, 1], \n",
    "    [2, 3, 3, 2], \n",
    "    [5, 5], \n",
    "    [4, 4, 2], \n",
    "    [1, 3, 3, 3], \n",
    "    [1, 1, 6, 1, 1]\n",
    "]\n",
    "fewest_number(bricks)"
   ]
  },
  {
   "cell_type": "markdown",
   "metadata": {},
   "source": [
    "#### Practice : Largest Subarray with 0 Sum\n",
    "Given an array of integers, find the length of the longest subarray with a sum that equals 0."
   ]
  },
  {
   "cell_type": "code",
   "execution_count": 63,
   "metadata": {},
   "outputs": [
    {
     "data": {
      "text/plain": [
       "5"
      ]
     },
     "execution_count": 63,
     "metadata": {},
     "output_type": "execute_result"
    }
   ],
   "source": [
    "# Time Complexity : O(n)\n",
    "# Space Complexity : O(m)\n",
    "def longest_zero_sum(arr: list[int]) -> int:\n",
    "    temp = {}\n",
    "    length = 0\n",
    "    current = 0\n",
    "    for i in range(len(arr)):\n",
    "        current += arr[i]\n",
    "        if current in temp:\n",
    "            length = max(i-temp[current], length)\n",
    "            #temp[current] = length\n",
    "        else:\n",
    "            temp[current] = i\n",
    "    return length\n",
    "\n",
    "# Test case\n",
    "arr = [15, -2, 2, -8, 1, 7, 10, 23]\n",
    "longest_zero_sum(arr)"
   ]
  },
  {
   "cell_type": "markdown",
   "metadata": {},
   "source": [
    "---\n",
    "## Chap 4. Trees, Priority Queues, Strings"
   ]
  },
  {
   "cell_type": "markdown",
   "metadata": {},
   "source": [
    "#### Example : Minimal Tree\n",
    "Given a sorted (increasing order) array with unique integer elements, write an algorithm to create a binary search tree with minimal height."
   ]
  },
  {
   "cell_type": "code",
   "execution_count": 74,
   "metadata": {},
   "outputs": [
    {
     "name": "stdout",
     "output_type": "stream",
     "text": [
      "Preorder:\t 6->3->2->4->8->7->9\n",
      "Postorder:\t 2->4->3->7->9->8->6\n",
      "Inorder:\t 2->3->4->6->7->8->9\n"
     ]
    }
   ],
   "source": [
    "def minimalTree(arr: list[int]):\n",
    "    if len(arr) == 1:\n",
    "        return TreeNode(arr[0])\n",
    "    mid = len(arr) // 2\n",
    "    root = TreeNode(arr[mid])\n",
    "    root.left = minimalTree(arr[:mid])\n",
    "    root.right = minimalTree(arr[mid+1:])\n",
    "    return root\n",
    "\n",
    "# Test case\n",
    "arr = [2, 3, 4, 6, 7, 8, 9]\n",
    "root = minimalTree(arr)\n",
    "print('Preorder:\\t', Preorder(root))\n",
    "print('Postorder:\\t', Postorder(root))\n",
    "print('Inorder:\\t', Inorder(root))"
   ]
  },
  {
   "cell_type": "markdown",
   "metadata": {},
   "source": [
    "#### Example : Reconstruct Tree from Preorder and Inorder Traversals\n",
    "Given pre-order and in-order traversals of a binary tree, write a function to reconstruct the tree."
   ]
  },
  {
   "cell_type": "code",
   "execution_count": 76,
   "metadata": {},
   "outputs": [
    {
     "name": "stdout",
     "output_type": "stream",
     "text": [
      "Preorder:\t a->b->d->e->c->f->g\n",
      "Postorder:\t d->e->b->f->g->c->a\n",
      "Inorder:\t d->b->e->a->f->c->g\n"
     ]
    }
   ],
   "source": [
    "def reconstructTree(preorder: list[str], inorder: list[str]):\n",
    "    if not preorder or not inorder:\n",
    "        return\n",
    "    root = TreeNode(preorder[0])\n",
    "    mid = inorder.index(root.val)\n",
    "    root.left = reconstructTree(preorder[1:mid+1], inorder[:mid])\n",
    "    root.right = reconstructTree(preorder[mid+1:], inorder[mid+1:])\n",
    "    return root\n",
    "\n",
    "# Test case\n",
    "preorder = ['a', 'b', 'd', 'e', 'c', 'f', 'g']\n",
    "inorder = ['d', 'b', 'e', 'a', 'f', 'c', 'g']\n",
    "root = reconstructTree(preorder, inorder)\n",
    "print('Preorder:\\t', Preorder(root))\n",
    "print('Postorder:\\t', Postorder(root))\n",
    "print('Inorder:\\t', Inorder(root))"
   ]
  },
  {
   "cell_type": "markdown",
   "metadata": {},
   "source": [
    "#### Example : String Rotation\n",
    "Assume you have a method isSubstring which checks if one word is a substring of another. Given two strings s1 and s2, write code to check if s2 is a rotation of s1 using isSubstring. “waterbottle” is a rotation of “erbottlewat”."
   ]
  },
  {
   "cell_type": "code",
   "execution_count": 77,
   "metadata": {},
   "outputs": [
    {
     "name": "stdout",
     "output_type": "stream",
     "text": [
      "True\n",
      "False\n"
     ]
    }
   ],
   "source": [
    "def string_rotation(s1: str, s2: str) -> bool:\n",
    "    s = s1 * 2\n",
    "    return bool(s2 in s)\n",
    "\n",
    "# Test case 1\n",
    "s1 = 'waterbottle'\n",
    "s2 = 'erbottlewat'\n",
    "print(string_rotation(s1, s2))\n",
    "\n",
    "# Test case 2\n",
    "s1 = 'abc'\n",
    "s2 = 'bac'\n",
    "print(string_rotation(s1, s2))"
   ]
  },
  {
   "cell_type": "markdown",
   "metadata": {},
   "source": [
    "#### Example : String Compression\n",
    "Implement a method to perform basic string compression using the counts of repeated characters. If the “compressed” string would not become smaller than the original string, your method should return the original string. You can assume the string has only uppercase and lowercase letters (a-z)."
   ]
  },
  {
   "cell_type": "code",
   "execution_count": 83,
   "metadata": {},
   "outputs": [
    {
     "name": "stdout",
     "output_type": "stream",
     "text": [
      "a2b1c5a3\n",
      "aabaaa\n"
     ]
    }
   ],
   "source": [
    "def string_compression(s: str) -> str:\n",
    "    answer = []\n",
    "    cnt = 1\n",
    "    for i in range(len(s)):\n",
    "        if i != len(s)-1 and s[i] == s[i+1]:\n",
    "            cnt += 1\n",
    "            continue\n",
    "        answer.append(s[i])\n",
    "        answer.append(str(cnt))\n",
    "        cnt = 1\n",
    "    new_string = ''.join(answer)\n",
    "    return new_string if len(new_string) < len(s) else s\n",
    "\n",
    "# Test case 1\n",
    "s = 'aabcccccaaa'\n",
    "print(string_compression(s))\n",
    "\n",
    "# Test case 2\n",
    "s = 'aabaaa'\n",
    "print(string_compression(s))"
   ]
  },
  {
   "cell_type": "markdown",
   "metadata": {},
   "source": [
    "## Practice 4. Priority Queues, Strings"
   ]
  },
  {
   "cell_type": "markdown",
   "metadata": {},
   "source": [
    "#### Practice : Compute Running Median\n",
    "Compute the running median of a sequence of numbers. That is, given a stream of numbers, print out the median of the list so far after each new element. Recall that the median of an even-numbered list is the average of the two middle numbers."
   ]
  },
  {
   "cell_type": "code",
   "execution_count": 88,
   "metadata": {},
   "outputs": [
    {
     "name": "stdout",
     "output_type": "stream",
     "text": [
      "[2, 1.5, 2, 3.5, 2, 2.0, 2]\n",
      "[-1, 0.5, 0, 0.5, 0, 0.5, 0, 0.0]\n"
     ]
    }
   ],
   "source": [
    "def running_median(nums: list[int]) -> list[float]:\n",
    "    answer = []\n",
    "    minheap = []\n",
    "    maxheap = []\n",
    "    for i in range(len(nums)):\n",
    "        if len(minheap) == len(maxheap):\n",
    "            heapq.heappush(maxheap, -nums[i])\n",
    "        else:\n",
    "            heapq.heappush(minheap, nums[i])\n",
    "        if maxheap and minheap and -maxheap[0] > minheap[0]:\n",
    "            minpop = heapq.heappop(minheap)\n",
    "            maxpop = heapq.heappop(maxheap)\n",
    "            heapq.heappush(maxheap, -minpop)\n",
    "            heapq.heappush(minheap, -maxpop)\n",
    "        if i % 2 == 0:\n",
    "            answer.append(-maxheap[0])\n",
    "        else:\n",
    "            answer.append((minheap[0]-maxheap[0])/2)\n",
    "    return answer\n",
    "\n",
    "# Test case 1\n",
    "seq = [2, 1, 5, 7, 2, 0, 5]\n",
    "print(running_median(seq))\n",
    "\n",
    "# Test case 2\n",
    "seq = [-1, 2, 0, 1, 0, 1, -1, -2]\n",
    "print(running_median(seq))"
   ]
  },
  {
   "cell_type": "markdown",
   "metadata": {},
   "source": [
    "#### Practice : One Away\n",
    "There are three types of edits that can be performed on strings: insert a character, remove a character, or replace a character. Given two strings, write a function to check if there is one edit (or zero edit) away."
   ]
  },
  {
   "cell_type": "code",
   "execution_count": 93,
   "metadata": {},
   "outputs": [
    {
     "name": "stdout",
     "output_type": "stream",
     "text": [
      "True\n",
      "True\n",
      "False\n"
     ]
    }
   ],
   "source": [
    "def one_away(s1: str, s2: str) -> bool:\n",
    "    if len(s1) < len(s2):\n",
    "        s1, s2 = s2, s1\n",
    "    i1 = 0\n",
    "    i2 = 0\n",
    "    skip = 0\n",
    "    while i1 < len(s1) and i2 < len(s2):\n",
    "        if s1[i1] != s2[i2]:\n",
    "            skip += 1\n",
    "            if len(s1) != len(s2):\n",
    "                i2 -= 1\n",
    "        i1 += 1\n",
    "        i2 += 1\n",
    "        if skip >= 2:\n",
    "            return False\n",
    "    return (len(s1)-len(s2) < 2)\n",
    "\n",
    "# Test case 1\n",
    "s1 = 'pale'\n",
    "s2 = 'ple'\n",
    "print(one_away(s1, s2))\n",
    "\n",
    "# Test case 2\n",
    "s1 = 'pales'\n",
    "s2 = 'pale'\n",
    "print(one_away(s1, s2))\n",
    "\n",
    "# Test case 3\n",
    "s1 = 'pale'\n",
    "s2 = 'bae'\n",
    "print(one_away(s1, s2))"
   ]
  },
  {
   "cell_type": "markdown",
   "metadata": {},
   "source": [
    "---\n",
    "## Chapter 5, 6 : Dynamic Programming, BackTracking"
   ]
  },
  {
   "cell_type": "markdown",
   "metadata": {},
   "source": [
    "#### Example : House Robber\n",
    "Robber plans to rob houses along a street. Each house has a certain amount of money stashed. Adjacent houses have security systems connected and it will automatically contact the police if two adjacent houses were broken into on the same night. Given an integer array representing the amount of money of each house, return the maximum amount of money the robber can rob tonight without alerting the police."
   ]
  },
  {
   "cell_type": "code",
   "execution_count": 96,
   "metadata": {},
   "outputs": [
    {
     "data": {
      "text/plain": [
       "12"
      ]
     },
     "execution_count": 96,
     "metadata": {},
     "output_type": "execute_result"
    }
   ],
   "source": [
    "def house_robber(nums):\n",
    "    R = [0] * len(nums)\n",
    "    # Base case\n",
    "    R[0] = nums[0]\n",
    "    R[1] = max(nums[0], nums[1])\n",
    "    for i in range(2, len(nums)):\n",
    "        R[i] = max(R[i-2]+nums[i], R[i-1])\n",
    "    return R[-1]\n",
    "\n",
    "# Test case 1\n",
    "nums = [3, 7, 8, 2, 1]\n",
    "house_robber(nums)"
   ]
  },
  {
   "cell_type": "markdown",
   "metadata": {},
   "source": [
    "#### Example : Longest Common Subsequence, LCS\n",
    "Find length of a longest common subsequence 𝑧1, … , 𝑧𝑘 of two sequences"
   ]
  },
  {
   "cell_type": "code",
   "execution_count": 106,
   "metadata": {},
   "outputs": [
    {
     "name": "stdout",
     "output_type": "stream",
     "text": [
      "2\n",
      "5\n"
     ]
    }
   ],
   "source": [
    "def LCS(A, B):\n",
    "    DP = [[0]*(len(B)+1) for _ in range(len(A)+1)]\n",
    "    for i in reversed(range(len(A))):\n",
    "        for j in reversed(range(len(B))):\n",
    "            if A[i] == B[j]:\n",
    "                DP[i][j] = 1 + DP[i+1][j+1]\n",
    "            else:\n",
    "                DP[i][j] = max(DP[i+1][j], DP[i][j+1])\n",
    "    return DP[0][0]\n",
    "\n",
    "# Test case 1\n",
    "A = 'THEIR'\n",
    "B = 'HABIT'\n",
    "print(LCS(A, B))\n",
    "\n",
    "# Test case 2\n",
    "A = 'HIEROGLYPHOLOGY'\n",
    "B = 'MICHAELANGELO'\n",
    "print(LCS(A, B))"
   ]
  },
  {
   "cell_type": "markdown",
   "metadata": {},
   "source": [
    "#### Example : Moving on a Grid\n",
    "A climber tries to climb on top of a wall.  \n",
    "• A wall is constructed out of square blocks of equal size, each of which provides one handhold.  \n",
    "• Some handholds are more dangerous than others.  \n",
    "• From each block the climber can reach three blocks of the row right above: one right on top, one to the right and one to the left (unless right or left is no available because that is the end of the wall).  \n",
    "• Find the least dangerous path from the bottom of the wall to the top, where danger rating (cost) of a path is the sum of danger ratings of blocks used on that path."
   ]
  },
  {
   "cell_type": "code",
   "execution_count": 110,
   "metadata": {},
   "outputs": [
    {
     "data": {
      "text/plain": [
       "12"
      ]
     },
     "execution_count": 110,
     "metadata": {},
     "output_type": "execute_result"
    }
   ],
   "source": [
    "def move(grid):\n",
    "    DP = [[float('inf')]*len(grid[0]) for _ in range(len(grid)+1)]\n",
    "    # Base case\n",
    "    DP[0] = [0]*len(grid[0])\n",
    "    for i in range(1, len(grid)+1):\n",
    "        for j in range(len(grid[0])):\n",
    "            if j == len(grid[0])-1:\n",
    "                DP[i][j] = grid[i-1][j] + min(DP[i-1][j-1], DP[i-1][j])\n",
    "            elif j == 0:\n",
    "                DP[i][j] = grid[i-1][j] + min(DP[i-1][j], DP[i-1][j+1])\n",
    "            else:\n",
    "                DP[i][j] = grid[i-1][j] + min(DP[i-1][j-1], DP[i-1][j], DP[i-1][j+1])\n",
    "    return min(DP[-1])\n",
    "\n",
    "# Test case\n",
    "grid = [\n",
    "    [3, 2, 5, 4, 8],\n",
    "    [5, 7, 5, 6, 1],\n",
    "    [4, 4, 6, 2, 3],\n",
    "    [2, 8, 9, 5, 8]\n",
    "]\n",
    "move(grid)"
   ]
  },
  {
   "cell_type": "markdown",
   "metadata": {},
   "source": [
    "#### Example : N-Queens\n",
    "Count the number of solutions to place the N queens on the board."
   ]
  },
  {
   "cell_type": "code",
   "execution_count": 114,
   "metadata": {},
   "outputs": [
    {
     "name": "stdout",
     "output_type": "stream",
     "text": [
      "2\n",
      "92\n"
     ]
    }
   ],
   "source": [
    "def N_Queens(n):\n",
    "    chess = [0]*n\n",
    "\n",
    "    def isValid(row, col):\n",
    "        for i in range(row):\n",
    "            if col == chess[i] or abs(chess[i]-col) == row - i:\n",
    "                return False\n",
    "        return True\n",
    "\n",
    "    def nQueens(row=0, count=0):\n",
    "        for col in range(n):\n",
    "            if isValid(row, col):\n",
    "                chess[row] = col\n",
    "                if row + 1 == n:\n",
    "                    count += 1\n",
    "                else:\n",
    "                    count = nQueens(row+1, count)\n",
    "                chess[row] = 0\n",
    "        return count\n",
    "    count = nQueens()\n",
    "    return count\n",
    "\n",
    "# Test case 1\n",
    "print(N_Queens(4))\n",
    "\n",
    "# Test case 2\n",
    "print(N_Queens(8))"
   ]
  },
  {
   "cell_type": "markdown",
   "metadata": {},
   "source": [
    "#### Example : Flight Itinerary\n",
    "Given an unordered list of flights taken by someone, each represented as (origin, destination) pairs, and a starting airport, compute an itinerary such that all cities are visited. If no such itinerary exists, return null."
   ]
  },
  {
   "cell_type": "code",
   "execution_count": 128,
   "metadata": {},
   "outputs": [
    {
     "name": "stdout",
     "output_type": "stream",
     "text": [
      "['yul', 'yyz', 'sfo', 'hko', 'ord']\n",
      "None\n"
     ]
    }
   ],
   "source": [
    "def backtrack(nbrs, visited, path):\n",
    "    if len(visited) == sum(len(n) for n in nbrs.values()):\n",
    "        return path\n",
    "    current = path[-1]\n",
    "    for route in nbrs[current]:\n",
    "        flight = (current, route)\n",
    "        if flight not in visited:\n",
    "            visited.add(flight)\n",
    "            path.append(route)\n",
    "            result = backtrack(nbrs, visited, path)\n",
    "            if result:\n",
    "                return result\n",
    "            visited.remove(flight)\n",
    "            path.pop()\n",
    "    return None\n",
    "        \n",
    "def itinerary(flights, start):\n",
    "    visited = set()\n",
    "    nbrs = defaultdict(list)\n",
    "    for x, y in flights:\n",
    "        nbrs[x].append(y)\n",
    "        if y not in nbrs:\n",
    "            nbrs[y] = []\n",
    "    return backtrack(nbrs, visited, [start])\n",
    "\n",
    "# Test case 1\n",
    "flights = [('sfo', 'hko'), ('yyz', 'sfo'), ('yul', 'yyz'), ('hko', 'ord')]\n",
    "start = 'yul'\n",
    "print(itinerary(flights, start))\n",
    "\n",
    "# Test case 2\n",
    "flights = [('sfo', 'com'), ('com', 'yyz')]\n",
    "start = 'com'\n",
    "print(itinerary(flights, start))"
   ]
  },
  {
   "cell_type": "markdown",
   "metadata": {},
   "source": [
    "#### Practice : Bowling\n",
    "Suppose you are given n bowling pins 0, 1, … , 𝑛 − 1, where pin 𝑖 has its own value 𝑣𝑖. If you hit only pin 𝑖, you will get 𝑣𝑖 points. If you hit two pin 𝑖 and pin 𝑖 + 1, you will get 𝑣𝑖 × 𝑣𝑖+1 points. What is the maximum score that you can get from these bowling pins?"
   ]
  },
  {
   "cell_type": "code",
   "execution_count": 129,
   "metadata": {},
   "outputs": [
    {
     "name": "stdout",
     "output_type": "stream",
     "text": [
      "110\n",
      "106\n"
     ]
    }
   ],
   "source": [
    "def bowling(nums: list[int]) -> int:\n",
    "    n = len(nums)\n",
    "    if n == 0: return 0\n",
    "    answer = [0] * (n+1)\n",
    "    answer[n-1] = max(0, nums[n-1])\n",
    "    for i in range(n-2, -1, -1):\n",
    "        answer[i] = max(answer[i+1], nums[i]+answer[i+1], nums[i]*nums[i+1]+answer[i+2])\n",
    "    return answer[0]\n",
    "\n",
    "# Test case 1\n",
    "nums = [-3, 1, 1, 9, 9, 2, -5, -5]\n",
    "print(bowling(nums))\n",
    "\n",
    "# Test case 2\n",
    "nums = [-1, 1, 1, 1, 9, 9, 3, -3, -5, 2, 2]\n",
    "print(bowling(nums))"
   ]
  },
  {
   "cell_type": "markdown",
   "metadata": {},
   "source": [
    "#### Practice : Robot in a Grid\n",
    "Imagine a robot sitting on the upper left corner of grid with r rows and c columns. The robot can only more in two directions, right and down, but certain cells are “off limits” such that the robot cannot step on them. Design an algorithm to find a path for the robot from the top left to the bottom right."
   ]
  },
  {
   "cell_type": "code",
   "execution_count": 135,
   "metadata": {},
   "outputs": [
    {
     "name": "stdout",
     "output_type": "stream",
     "text": [
      "[(0, 0)]\n",
      "[(0, 0), (0, 1), (1, 1), (2, 1), (2, 2), (2, 3), (3, 3), (4, 3)]\n"
     ]
    }
   ],
   "source": [
    "def robot(grid):\n",
    "    tr = len(grid)\n",
    "    tc = len(grid[0])\n",
    "    movement = [(0, 1), (1, 0)]\n",
    "    route = [(0, 0)]\n",
    "    def backtrack(rr, rc, path=[]):\n",
    "        if rr == tr-1 and rc == tc-1:\n",
    "            for p in path:\n",
    "                route.append(p)\n",
    "            return\n",
    "        for mr, mc in movement:\n",
    "            if rr+mr < tr and rc+mc < tc and grid[rr+mr][rc+mc] == 0:\n",
    "                backtrack(rr+mr, rc+mc, path+[(rr+mr, rc+mc)])\n",
    "    backtrack(0, 0)\n",
    "    return route if route else None\n",
    "                          \n",
    "\n",
    "# Test case 1\n",
    "grid = [[0, 0, 1, 1],\n",
    "        [1, 0, 0, 1],\n",
    "        [0, 0, 1, 1],\n",
    "        [0, 1, 1, 1],\n",
    "        [0, 0, 0, 0]]\n",
    "print(robot(grid))\n",
    "\n",
    "# Test case 2\n",
    "grid = [[0, 0, 1, 1],\n",
    "        [1, 0, 1, 1],\n",
    "        [0, 0, 0, 0],\n",
    "        [0, 1, 1, 0],\n",
    "        [0, 0, 0, 0]]\n",
    "print(robot(grid))\n"
   ]
  }
 ],
 "metadata": {
  "kernelspec": {
   "display_name": "base",
   "language": "python",
   "name": "python3"
  },
  "language_info": {
   "codemirror_mode": {
    "name": "ipython",
    "version": 3
   },
   "file_extension": ".py",
   "mimetype": "text/x-python",
   "name": "python",
   "nbconvert_exporter": "python",
   "pygments_lexer": "ipython3",
   "version": "3.11.0"
  }
 },
 "nbformat": 4,
 "nbformat_minor": 2
}
